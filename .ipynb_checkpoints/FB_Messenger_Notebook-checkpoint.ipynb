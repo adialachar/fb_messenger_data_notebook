{
 "cells": [
  {
   "cell_type": "markdown",
   "metadata": {},
   "source": [
    "The following code takes the json objects out of your files and puts it into a dataframe"
   ]
  },
  {
   "cell_type": "code",
   "execution_count": 102,
   "metadata": {},
   "outputs": [],
   "source": [
    "import pandas as pd\n",
    "import json\n",
    "from copy import deepcopy\n",
    "import pathlib\n",
    "\n",
    "l = []\n",
    "path_to_messages_folder = \"/Users/aditya/Desktop/Bash_Messages\" # Change this for your path\n",
    "\n",
    "\n",
    "for file in pathlib.Path(path_to_messages_folder).iterdir():\n",
    "    \n",
    "    if file.is_file():\n",
    "        \n",
    "        file_name = path_to_messages_folder + \"/\" + file.name\n",
    "        with open(file_name) as f:\n",
    "            dat = json.loads(f.read())\n",
    "            del dat['participants'] \n",
    "            l.append(pd.DataFrame.from_dict(dat['messages']))\n",
    "\n",
    "\n",
    "df = pd.concat(l, sort=False)\n",
    "x = deepcopy(list(df.columns))\n",
    "\n",
    "# These are just the columns I keep. Feel free to change\n",
    "\n",
    "x.remove('content')\n",
    "x.remove('sender_name')\n",
    "x.remove('timestamp_ms')\n",
    "\n",
    "for c in x:\n",
    "    del df[c]\n",
    "\n",
    "\n"
   ]
  },
  {
   "cell_type": "markdown",
   "metadata": {},
   "source": [
    "Here are some functions I made that I found useful.\n",
    "\n",
    "The first one `sender_and_messages` takes two arguments: The dataframe that was created by the above snippet of code, and the list of words you are searching for. It returns the sender name, and the number of total instances that sender sent any of the words in the list. They are returned as a list of tuples\n",
    "\n",
    "For example, you could run\n",
    "\n",
    "`sender_and_messages(df,[\"swag\",\"Swag\",\"swagger\",\"Swagger\"])`\n",
    "\n",
    "And it would return a list of tuples, with each tuple containing a sender name and the number of total times that any of the words have been said\n",
    "\n",
    "\n",
    "\n",
    "The seconds function just converts this tuple to a pandas piechart\n",
    "\n",
    "A function call could look like \n",
    "\n",
    "`tuples_to_piecharts(sender_and_messages(df,[\"swag\",\"Swag\",\"swagger\",\"Swagger\"]))`\n"
   ]
  },
  {
   "cell_type": "code",
   "execution_count": 103,
   "metadata": {},
   "outputs": [],
   "source": [
    "from typing import List, Tuple\n",
    "\n",
    "def sender_and_messages(df, words: List[str] = []) -> List[Tuple[str,int]]: \n",
    "    \n",
    "    df_t = deepcopy(df)\n",
    "    if len(words) > 0:\n",
    "        df_t = df_t[df_t[\"content\"].str.contains(\"|\".join(words), na=False)]\n",
    "    l = []\n",
    "    for v in df['sender_name'].unique():\n",
    "        l.append((v,len(df[df['sender_name'].str.contains(v)])))\n",
    "             \n",
    "    l.sort(key = lambda x:x[1], reverse=True)\n",
    "    return l\n",
    "\n",
    "def tuples_to_piechart(l):\n",
    "    \n",
    "    %matplotlib inline\n",
    "    dfx = deepcopy(df)\n",
    "    dfx = pd.DataFrame(l, columns =['Name', 'Number of Messages']) \n",
    "    dfx.plot.pie(x ='Name', y='Number of Messages', labels=dfx[\"Name\"] ,figsize=(22, 22))\n",
    "\n",
    "\n"
   ]
  },
  {
   "cell_type": "code",
   "execution_count": null,
   "metadata": {},
   "outputs": [],
   "source": [
    "tuples_to_piechart(sender_and_messages(df))"
   ]
  }
 ],
 "metadata": {
  "kernelspec": {
   "display_name": "Python 3",
   "language": "python",
   "name": "python3"
  },
  "language_info": {
   "codemirror_mode": {
    "name": "ipython",
    "version": 3
   },
   "file_extension": ".py",
   "mimetype": "text/x-python",
   "name": "python",
   "nbconvert_exporter": "python",
   "pygments_lexer": "ipython3",
   "version": "3.7.6"
  }
 },
 "nbformat": 4,
 "nbformat_minor": 2
}
